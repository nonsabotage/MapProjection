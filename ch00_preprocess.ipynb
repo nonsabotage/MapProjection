{
 "metadata": {
  "language_info": {
   "codemirror_mode": {
    "name": "ipython",
    "version": 3
   },
   "file_extension": ".py",
   "mimetype": "text/x-python",
   "name": "python",
   "nbconvert_exporter": "python",
   "pygments_lexer": "ipython3",
   "version": "3.8.3-final"
  },
  "orig_nbformat": 2,
  "kernelspec": {
   "name": "python3",
   "display_name": "Python 3.8.3 64-bit (conda)",
   "metadata": {
    "interpreter": {
     "hash": "cef9e06bb236b2a8629b07e87a04b187b952a0f661eff5533360a155783f0c33"
    }
   }
  }
 },
 "nbformat": 4,
 "nbformat_minor": 2,
 "cells": [
  {
   "source": [
    "# ユーティリティ関数の検討\n",
    "\n",
    "## データの前処理\n",
    "\n",
    "テキストで管理されているので，csvに変換しておく. \n"
   ],
   "cell_type": "markdown",
   "metadata": {}
  },
  {
   "cell_type": "code",
   "execution_count": 1,
   "metadata": {},
   "outputs": [],
   "source": [
    "import re\n",
    "import pandas as pd\n",
    "import numpy as np\n",
    "\n",
    "path = \"./dat/30523.dat\"\n",
    "with open(path, \"rt\") as f:\n",
    "    arr = np.array(re.split(\"[\\t\\n]\", f.read()))\n",
    "\n",
    "grp = np.cumsum(arr == \">\")\n",
    "lonlat = pd.DataFrame({\n",
    "    \"grp\":grp, \n",
    "    \"lon\": arr\n",
    "})\n",
    "lonlat = lonlat.loc[lonlat.loc[:, \"lon\"] != \">\"]\n",
    "lonlat.loc[:, \"lat\"] = lonlat.loc[:, \"lon\"].shift(-1)\n",
    "lonlat = lonlat.iloc[:-2:2]\n",
    "lonlat.loc[:, \"lon\"] = np.array(lonlat.loc[:, \"lon\"], dtype = np.float32)\n",
    "lonlat.loc[:, \"lat\"] = np.array(lonlat.loc[:, \"lat\"], dtype = np.float32)\n",
    "lonlat.to_csv(\"./dat/30523.csv\")"
   ]
  },
  {
   "cell_type": "code",
   "execution_count": null,
   "metadata": {},
   "outputs": [],
   "source": []
  }
 ]
}